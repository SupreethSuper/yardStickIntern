{
  "nbformat": 4,
  "nbformat_minor": 0,
  "metadata": {
    "colab": {
      "provenance": []
    },
    "kernelspec": {
      "name": "python3",
      "display_name": "Python 3"
    },
    "language_info": {
      "name": "python"
    }
  },
  "cells": [
    {
      "cell_type": "code",
      "execution_count": 1,
      "metadata": {
        "id": "6-Cdb_tL9Tv0"
      },
      "outputs": [],
      "source": [
        "# Import libraries\n",
        "import requests\n",
        "from bs4 import BeautifulSoup"
      ]
    },
    {
      "cell_type": "code",
      "source": [
        "# Define the target URL\n",
        "url = \"https://techcrunch.com/2024/04/30/sams-clubs-ai-powered-exit-tech-reaches-20-of-stores/\"\n"
      ],
      "metadata": {
        "id": "XXCPBT4w9Yei"
      },
      "execution_count": 2,
      "outputs": []
    },
    {
      "cell_type": "code",
      "source": [
        "# Send an HTTP GET request\n",
        "response = requests.get(url)"
      ],
      "metadata": {
        "id": "lz7fuAfp9bOl"
      },
      "execution_count": 3,
      "outputs": []
    },
    {
      "cell_type": "code",
      "source": [
        "if response.status_code == 200:\n",
        "  # Parse the HTML content\n",
        "  soup = BeautifulSoup(response.content, 'html.parser')\n",
        "\n",
        "  # Extract text content (replace with specific selectors for desired data)\n",
        "  text = soup.get_text(strip=True)\n",
        "\n",
        "  # Print the extracted text\n",
        "  print(text)\n",
        "else:\n",
        "  print(\"Error fetching the webpage!\")\n"
      ],
      "metadata": {
        "colab": {
          "base_uri": "https://localhost:8080/"
        },
        "id": "_IsLk3Ma9eJl",
        "outputId": "b29b16f6-23c2-49eb-b79a-c0c70930b79a"
      },
      "execution_count": 4,
      "outputs": [
        {
          "output_type": "stream",
          "name": "stdout",
          "text": [
            "Sam's Club's AI-powered exit tech reaches 20% of stores | TechCrunchTechCrunchplus-boldTechCrunchOpen NavigationTechCrunchSam’s Club’s AI-powered exit tech reaches 20% of storesSarah Perez@sarahintampa/2 daysAmazon may be scaling back itsAI-powered Just Walk Out checkout-free techin its stores in favor of smart shopping carts, but Walmart-owned Sam’s Club says it’s turning to AI to speed up its own exit technology. Instead of requiring store staff to check members’ purchases against their receipts when leaving the store, Sam’s Club customers who pay either at a register or through the Scan & Go mobile app can now walk out of the store without having their purchases double-checked.The technology,unveiledat the Consumer Electronics Show in January, has now been deployed at over 120 clubs across the U.S., which is 20% of the total number of Sam’s Club locations. Since rolling out, the company claims that it has significantly sped up exits, as members leave the store 23% faster. The retailer plans to expand the tech to all its stores by year-end.The system works via a combination of computer vision and digital tech that captures images of customers’ carts and then verifies payment for the items in their basket. Sam’s Club says AI is used in the background to speed up the process. The AI also learns and improves over time as thousands of exit transactions across locations are analyzed.Before the technology was put into place, Sam’s Club members would have to queue up at the store’s exit to wait to have their receipts checked. The new solution keeps them moving along and frees up store staff to focus on other tasks.The company also took a subtle shot at rival Amazon in announcing the expansion, noting that its technology arrives as “other retailers have struggled to deploy similar technology at scale, with some abandoning efforts” — a clear reference to Amazon’s pullback on Just Walk Out. In addition,Amazon had to fend off criticismthat its AI tech had relied on 1,000 some human workers to review transactions. Amazon said machine learning had powered its technology and that contractors were only annotating the AI and shopping data to improve the system.By comparison, Sam’s Club says it has less than 40 employees working on deployment of exit technology, including engineering, product, UX, marketing, operations, and real estate.\n"
          ]
        }
      ]
    },
    {
      "cell_type": "code",
      "source": [],
      "metadata": {
        "id": "qiMVoyq99hd9"
      },
      "execution_count": null,
      "outputs": []
    }
  ]
}